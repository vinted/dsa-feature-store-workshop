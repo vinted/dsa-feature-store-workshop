{
 "cells": [
  {
   "cell_type": "markdown",
   "id": "e111499a-a00c-40b1-abac-1f943dc8975b",
   "metadata": {},
   "source": [
    "# Feature Store for Data Science and Machine Learning"
   ]
  },
  {
   "cell_type": "code",
   "execution_count": 90,
   "id": "1d1e83ef-e776-4302-922e-9e6d1c5bf687",
   "metadata": {},
   "outputs": [],
   "source": [
    "# Start Google Meeting and Record!"
   ]
  },
  {
   "cell_type": "markdown",
   "id": "a4e477c5-a83a-473d-8b24-b3a852106dd3",
   "metadata": {},
   "source": [
    "## Setup\n",
    "\n",
    "Use GCP Vertex AI Notebooks. If that doesn't work you can use Google Colab as well."
   ]
  },
  {
   "cell_type": "code",
   "execution_count": 91,
   "id": "75f9bba7-bc13-4d84-b056-b795516916df",
   "metadata": {},
   "outputs": [
    {
     "name": "stdout",
     "output_type": "stream",
     "text": [
      "The autoreload extension is already loaded. To reload it, use:\n",
      "  %reload_ext autoreload\n"
     ]
    }
   ],
   "source": [
    "# The autoreload extension allows us to reload imported code without reloading the Jupyter lab.\n",
    "# You can read more about it here: https://ipython.readthedocs.io/en/stable/config/extensions/autoreload.html\n",
    "\n",
    "%load_ext autoreload\n",
    "%autoreload 2"
   ]
  },
  {
   "cell_type": "code",
   "execution_count": 92,
   "id": "40038142-be92-4274-8137-6b5949c2a2c9",
   "metadata": {},
   "outputs": [
    {
     "name": "stdout",
     "output_type": "stream",
     "text": [
      "Collecting package metadata (current_repodata.json): ...working... done\n",
      "Solving environment: ...working... done\n",
      "\n",
      "# All requested packages already installed.\n",
      "\n"
     ]
    }
   ],
   "source": [
    "!conda install -q mamba -n base -c conda-forge -y"
   ]
  },
  {
   "cell_type": "code",
   "execution_count": 93,
   "id": "5ec4c81b-6f6b-4bc5-b482-d82c3290774f",
   "metadata": {},
   "outputs": [],
   "source": [
    "# There is no (officially supported) way to install feast using conda.\n",
    "# This open issue asks for conda support: https://github.com/feast-dev/feast/issues/2748\n",
    "\n",
    "!pip install -q feast"
   ]
  },
  {
   "cell_type": "code",
   "execution_count": 94,
   "id": "dc79bdd5-5902-4d66-889d-bdea0c30842b",
   "metadata": {},
   "outputs": [
    {
     "name": "stdout",
     "output_type": "stream",
     "text": [
      "\n",
      "                  __    __    __    __\n",
      "                 /  \\  /  \\  /  \\  /  \\\n",
      "                /    \\/    \\/    \\/    \\\n",
      "███████████████/  /██/  /██/  /██/  /████████████████████████\n",
      "              /  / \\   / \\   / \\   / \\  \\____\n",
      "             /  /   \\_/   \\_/   \\_/   \\    o \\__,\n",
      "            / _/                       \\_____/  `\n",
      "            |/\n",
      "        ███╗   ███╗ █████╗ ███╗   ███╗██████╗  █████╗\n",
      "        ████╗ ████║██╔══██╗████╗ ████║██╔══██╗██╔══██╗\n",
      "        ██╔████╔██║███████║██╔████╔██║██████╔╝███████║\n",
      "        ██║╚██╔╝██║██╔══██║██║╚██╔╝██║██╔══██╗██╔══██║\n",
      "        ██║ ╚═╝ ██║██║  ██║██║ ╚═╝ ██║██████╔╝██║  ██║\n",
      "        ╚═╝     ╚═╝╚═╝  ╚═╝╚═╝     ╚═╝╚═════╝ ╚═╝  ╚═╝\n",
      "\n",
      "        mamba (0.25.0) supported by @QuantStack\n",
      "\n",
      "        GitHub:  https://github.com/mamba-org/mamba\n",
      "        Twitter: https://twitter.com/QuantStack\n",
      "\n",
      "█████████████████████████████████████████████████████████████\n",
      "\n"
     ]
    }
   ],
   "source": [
    "# We'll use only these direct dependencies.\n",
    "\n",
    "!mamba install -q -c conda-forge numpy pandas scikit-learn kaggle auto-sklearn -y"
   ]
  },
  {
   "cell_type": "code",
   "execution_count": 95,
   "id": "42aa4084-c365-426b-a055-b6f01757d875",
   "metadata": {},
   "outputs": [
    {
     "name": "stdout",
     "output_type": "stream",
     "text": [
      "\n",
      "                  __    __    __    __\n",
      "                 /  \\  /  \\  /  \\  /  \\\n",
      "                /    \\/    \\/    \\/    \\\n",
      "███████████████/  /██/  /██/  /██/  /████████████████████████\n",
      "              /  / \\   / \\   / \\   / \\  \\____\n",
      "             /  /   \\_/   \\_/   \\_/   \\    o \\__,\n",
      "            / _/                       \\_____/  `\n",
      "            |/\n",
      "        ███╗   ███╗ █████╗ ███╗   ███╗██████╗  █████╗\n",
      "        ████╗ ████║██╔══██╗████╗ ████║██╔══██╗██╔══██╗\n",
      "        ██╔████╔██║███████║██╔████╔██║██████╔╝███████║\n",
      "        ██║╚██╔╝██║██╔══██║██║╚██╔╝██║██╔══██╗██╔══██║\n",
      "        ██║ ╚═╝ ██║██║  ██║██║ ╚═╝ ██║██████╔╝██║  ██║\n",
      "        ╚═╝     ╚═╝╚═╝  ╚═╝╚═╝     ╚═╝╚═════╝ ╚═╝  ╚═╝\n",
      "\n",
      "        mamba (0.25.0) supported by @QuantStack\n",
      "\n",
      "        GitHub:  https://github.com/mamba-org/mamba\n",
      "        Twitter: https://twitter.com/QuantStack\n",
      "\n",
      "█████████████████████████████████████████████████████████████\n",
      "\n"
     ]
    }
   ],
   "source": [
    "!mamba install -q -c conda-forge black nb_black -y"
   ]
  },
  {
   "cell_type": "code",
   "execution_count": 7,
   "id": "8df615ac-70fe-4039-abac-fed8c2ddea3e",
   "metadata": {},
   "outputs": [],
   "source": [
    "# Formatting your code can be done automatically even in a notebook.\n",
    "# Don't waste your time doing that yourself or wrose not doing it at all.\n",
    "\n",
    "%load_ext lab_black"
   ]
  },
  {
   "cell_type": "code",
   "execution_count": 8,
   "id": "faea0b27-38af-4acb-adf1-6fae2f71bb05",
   "metadata": {},
   "outputs": [],
   "source": [
    "import json\n",
    "import pickle\n",
    "from pathlib import Path\n",
    "\n",
    "import autosklearn\n",
    "import numpy as np\n",
    "import pandas as pd\n",
    "from autosklearn.classification import AutoSklearnClassifier\n",
    "from sklearn.metrics import classification_report\n",
    "from sklearn.model_selection import train_test_split"
   ]
  },
  {
   "cell_type": "code",
   "execution_count": 9,
   "id": "cdce232f-2bea-4118-862f-1e2076d24d95",
   "metadata": {},
   "outputs": [],
   "source": [
    "# Some constants\n",
    "\n",
    "DATA_DIR = \"data\"\n",
    "FEATURE_STORE_DIR = \"feature_store\"\n",
    "MODELS_DIR = \"models\"\n",
    "N_CORES = 4\n",
    "USABLE_MEMORY_PER_CORE = 1024 * 2\n",
    "RANDOM_SEED = 420"
   ]
  },
  {
   "cell_type": "code",
   "execution_count": 19,
   "id": "aa2eb254-4a3c-4c82-aa70-c036d3dd41ca",
   "metadata": {},
   "outputs": [
    {
     "name": "stdout",
     "output_type": "stream",
     "text": [
      "Downloading spaceship-titanic.zip to /home/jupyter\n",
      "  0%|                                                | 0.00/299k [00:00<?, ?B/s]\n",
      "100%|████████████████████████████████████████| 299k/299k [00:00<00:00, 88.6MB/s]\n",
      "Archive:  spaceship-titanic.zip\n",
      "  inflating: data/sample_submission.csv  \n",
      "  inflating: data/test.csv           \n",
      "  inflating: data/train.csv          \n"
     ]
    }
   ],
   "source": [
    "# Upload your kaggle.json file to the current working directory.\n",
    "# This script will place it in the right place and download the dataset.\n",
    "# P.S. if you don't have kaggle.json, you can get it using these instructions: https://github.com/Kaggle/kaggle-api#api-credentials\n",
    "\n",
    "!mkdir ~/.kaggle\n",
    "!mv ./kaggle.json ~/.kaggle\n",
    "!chmod 600 ~/.kaggle/kaggle.json\n",
    "!kaggle competitions download -c spaceship-titanic\n",
    "!unzip spaceship-titanic.zip -d {DATA_DIR}"
   ]
  },
  {
   "cell_type": "markdown",
   "id": "9b6b0b63-c066-457c-b24a-812a934b89af",
   "metadata": {},
   "source": [
    "## EDA\n",
    "\n",
    "In this section we will do the exploratory data analysis.\n",
    "What is exploratory data analysis? \n",
    "If you'd like to learn more about EDA, I'd recommend reading \"Making Sense of Data I: A Practical Guide to Exploratory Data Analysis and Data Mining, 2nd Edition\" by Glenn J. Myatt and Wayne P. Johnson. Or the \"Exploratory Data Analysis\" by John Tukey."
   ]
  },
  {
   "cell_type": "code",
   "execution_count": 20,
   "id": "f26d432e-6b90-4c89-bd3b-a6eb09464dce",
   "metadata": {},
   "outputs": [],
   "source": [
    "all_data = pd.read_csv(Path(DATA_DIR) / \"train.csv\")"
   ]
  },
  {
   "cell_type": "code",
   "execution_count": 21,
   "id": "3d080f3b-30c6-4651-a5ef-9ec259fea976",
   "metadata": {},
   "outputs": [
    {
     "data": {
      "text/html": [
       "<div>\n",
       "<style scoped>\n",
       "    .dataframe tbody tr th:only-of-type {\n",
       "        vertical-align: middle;\n",
       "    }\n",
       "\n",
       "    .dataframe tbody tr th {\n",
       "        vertical-align: top;\n",
       "    }\n",
       "\n",
       "    .dataframe thead th {\n",
       "        text-align: right;\n",
       "    }\n",
       "</style>\n",
       "<table border=\"1\" class=\"dataframe\">\n",
       "  <thead>\n",
       "    <tr style=\"text-align: right;\">\n",
       "      <th></th>\n",
       "      <th>PassengerId</th>\n",
       "      <th>HomePlanet</th>\n",
       "      <th>CryoSleep</th>\n",
       "      <th>Cabin</th>\n",
       "      <th>Destination</th>\n",
       "      <th>Age</th>\n",
       "      <th>VIP</th>\n",
       "      <th>RoomService</th>\n",
       "      <th>FoodCourt</th>\n",
       "      <th>ShoppingMall</th>\n",
       "      <th>Spa</th>\n",
       "      <th>VRDeck</th>\n",
       "      <th>Name</th>\n",
       "      <th>Transported</th>\n",
       "    </tr>\n",
       "  </thead>\n",
       "  <tbody>\n",
       "    <tr>\n",
       "      <th>3290</th>\n",
       "      <td>3535_01</td>\n",
       "      <td>Mars</td>\n",
       "      <td>False</td>\n",
       "      <td>NaN</td>\n",
       "      <td>TRAPPIST-1e</td>\n",
       "      <td>36.0</td>\n",
       "      <td>False</td>\n",
       "      <td>1304.0</td>\n",
       "      <td>0.0</td>\n",
       "      <td>7.0</td>\n",
       "      <td>18.0</td>\n",
       "      <td>0.0</td>\n",
       "      <td>Clow Porki</td>\n",
       "      <td>False</td>\n",
       "    </tr>\n",
       "    <tr>\n",
       "      <th>4149</th>\n",
       "      <td>4432_01</td>\n",
       "      <td>Earth</td>\n",
       "      <td>True</td>\n",
       "      <td>G/728/P</td>\n",
       "      <td>TRAPPIST-1e</td>\n",
       "      <td>50.0</td>\n",
       "      <td>False</td>\n",
       "      <td>0.0</td>\n",
       "      <td>0.0</td>\n",
       "      <td>0.0</td>\n",
       "      <td>0.0</td>\n",
       "      <td>0.0</td>\n",
       "      <td>Robyna Loway</td>\n",
       "      <td>False</td>\n",
       "    </tr>\n",
       "    <tr>\n",
       "      <th>3937</th>\n",
       "      <td>4204_03</td>\n",
       "      <td>Earth</td>\n",
       "      <td>True</td>\n",
       "      <td>G/691/P</td>\n",
       "      <td>TRAPPIST-1e</td>\n",
       "      <td>12.0</td>\n",
       "      <td>False</td>\n",
       "      <td>0.0</td>\n",
       "      <td>0.0</td>\n",
       "      <td>0.0</td>\n",
       "      <td>0.0</td>\n",
       "      <td>0.0</td>\n",
       "      <td>Gailya Avisnydes</td>\n",
       "      <td>True</td>\n",
       "    </tr>\n",
       "    <tr>\n",
       "      <th>7810</th>\n",
       "      <td>8338_01</td>\n",
       "      <td>Mars</td>\n",
       "      <td>True</td>\n",
       "      <td>F/1716/P</td>\n",
       "      <td>TRAPPIST-1e</td>\n",
       "      <td>21.0</td>\n",
       "      <td>False</td>\n",
       "      <td>0.0</td>\n",
       "      <td>0.0</td>\n",
       "      <td>0.0</td>\n",
       "      <td>0.0</td>\n",
       "      <td>0.0</td>\n",
       "      <td>Choney Empie</td>\n",
       "      <td>True</td>\n",
       "    </tr>\n",
       "    <tr>\n",
       "      <th>5361</th>\n",
       "      <td>5726_01</td>\n",
       "      <td>Europa</td>\n",
       "      <td>True</td>\n",
       "      <td>B/192/P</td>\n",
       "      <td>55 Cancri e</td>\n",
       "      <td>27.0</td>\n",
       "      <td>False</td>\n",
       "      <td>0.0</td>\n",
       "      <td>0.0</td>\n",
       "      <td>NaN</td>\n",
       "      <td>0.0</td>\n",
       "      <td>0.0</td>\n",
       "      <td>Bottom Dindeng</td>\n",
       "      <td>True</td>\n",
       "    </tr>\n",
       "    <tr>\n",
       "      <th>75</th>\n",
       "      <td>0082_01</td>\n",
       "      <td>Mars</td>\n",
       "      <td>False</td>\n",
       "      <td>F/16/P</td>\n",
       "      <td>TRAPPIST-1e</td>\n",
       "      <td>42.0</td>\n",
       "      <td>False</td>\n",
       "      <td>7406.0</td>\n",
       "      <td>0.0</td>\n",
       "      <td>0.0</td>\n",
       "      <td>0.0</td>\n",
       "      <td>0.0</td>\n",
       "      <td>Totse Datte</td>\n",
       "      <td>False</td>\n",
       "    </tr>\n",
       "    <tr>\n",
       "      <th>6842</th>\n",
       "      <td>7230_01</td>\n",
       "      <td>Earth</td>\n",
       "      <td>True</td>\n",
       "      <td>G/1177/S</td>\n",
       "      <td>TRAPPIST-1e</td>\n",
       "      <td>34.0</td>\n",
       "      <td>False</td>\n",
       "      <td>0.0</td>\n",
       "      <td>0.0</td>\n",
       "      <td>0.0</td>\n",
       "      <td>0.0</td>\n",
       "      <td>0.0</td>\n",
       "      <td>Trice Blancoy</td>\n",
       "      <td>True</td>\n",
       "    </tr>\n",
       "    <tr>\n",
       "      <th>3111</th>\n",
       "      <td>3353_05</td>\n",
       "      <td>Europa</td>\n",
       "      <td>False</td>\n",
       "      <td>C/125/S</td>\n",
       "      <td>55 Cancri e</td>\n",
       "      <td>19.0</td>\n",
       "      <td>False</td>\n",
       "      <td>0.0</td>\n",
       "      <td>4494.0</td>\n",
       "      <td>0.0</td>\n",
       "      <td>11.0</td>\n",
       "      <td>3460.0</td>\n",
       "      <td>Ankaan Reming</td>\n",
       "      <td>True</td>\n",
       "    </tr>\n",
       "    <tr>\n",
       "      <th>925</th>\n",
       "      <td>0992_01</td>\n",
       "      <td>Europa</td>\n",
       "      <td>False</td>\n",
       "      <td>D/35/S</td>\n",
       "      <td>TRAPPIST-1e</td>\n",
       "      <td>49.0</td>\n",
       "      <td>False</td>\n",
       "      <td>31.0</td>\n",
       "      <td>2727.0</td>\n",
       "      <td>0.0</td>\n",
       "      <td>184.0</td>\n",
       "      <td>135.0</td>\n",
       "      <td>Zino Kiling</td>\n",
       "      <td>True</td>\n",
       "    </tr>\n",
       "    <tr>\n",
       "      <th>2463</th>\n",
       "      <td>2645_01</td>\n",
       "      <td>Europa</td>\n",
       "      <td>False</td>\n",
       "      <td>C/95/S</td>\n",
       "      <td>TRAPPIST-1e</td>\n",
       "      <td>55.0</td>\n",
       "      <td>False</td>\n",
       "      <td>0.0</td>\n",
       "      <td>815.0</td>\n",
       "      <td>1558.0</td>\n",
       "      <td>3.0</td>\n",
       "      <td>1334.0</td>\n",
       "      <td>Alrais Fordulgaug</td>\n",
       "      <td>True</td>\n",
       "    </tr>\n",
       "  </tbody>\n",
       "</table>\n",
       "</div>"
      ],
      "text/plain": [
       "     PassengerId HomePlanet CryoSleep     Cabin  Destination   Age    VIP  \\\n",
       "3290     3535_01       Mars     False       NaN  TRAPPIST-1e  36.0  False   \n",
       "4149     4432_01      Earth      True   G/728/P  TRAPPIST-1e  50.0  False   \n",
       "3937     4204_03      Earth      True   G/691/P  TRAPPIST-1e  12.0  False   \n",
       "7810     8338_01       Mars      True  F/1716/P  TRAPPIST-1e  21.0  False   \n",
       "5361     5726_01     Europa      True   B/192/P  55 Cancri e  27.0  False   \n",
       "75       0082_01       Mars     False    F/16/P  TRAPPIST-1e  42.0  False   \n",
       "6842     7230_01      Earth      True  G/1177/S  TRAPPIST-1e  34.0  False   \n",
       "3111     3353_05     Europa     False   C/125/S  55 Cancri e  19.0  False   \n",
       "925      0992_01     Europa     False    D/35/S  TRAPPIST-1e  49.0  False   \n",
       "2463     2645_01     Europa     False    C/95/S  TRAPPIST-1e  55.0  False   \n",
       "\n",
       "      RoomService  FoodCourt  ShoppingMall    Spa  VRDeck               Name  \\\n",
       "3290       1304.0        0.0           7.0   18.0     0.0         Clow Porki   \n",
       "4149          0.0        0.0           0.0    0.0     0.0       Robyna Loway   \n",
       "3937          0.0        0.0           0.0    0.0     0.0   Gailya Avisnydes   \n",
       "7810          0.0        0.0           0.0    0.0     0.0       Choney Empie   \n",
       "5361          0.0        0.0           NaN    0.0     0.0     Bottom Dindeng   \n",
       "75         7406.0        0.0           0.0    0.0     0.0        Totse Datte   \n",
       "6842          0.0        0.0           0.0    0.0     0.0      Trice Blancoy   \n",
       "3111          0.0     4494.0           0.0   11.0  3460.0      Ankaan Reming   \n",
       "925          31.0     2727.0           0.0  184.0   135.0        Zino Kiling   \n",
       "2463          0.0      815.0        1558.0    3.0  1334.0  Alrais Fordulgaug   \n",
       "\n",
       "      Transported  \n",
       "3290        False  \n",
       "4149        False  \n",
       "3937         True  \n",
       "7810         True  \n",
       "5361         True  \n",
       "75          False  \n",
       "6842         True  \n",
       "3111         True  \n",
       "925          True  \n",
       "2463         True  "
      ]
     },
     "execution_count": 21,
     "metadata": {},
     "output_type": "execute_result"
    }
   ],
   "source": [
    "all_data.sample(10)"
   ]
  },
  {
   "cell_type": "code",
   "execution_count": 22,
   "id": "c36dec81-a130-4dcd-892c-7d9641c86a5b",
   "metadata": {},
   "outputs": [],
   "source": [
    "target_name = \"Transported\""
   ]
  },
  {
   "cell_type": "code",
   "execution_count": 23,
   "id": "c2fe3fd3-f4f5-45e6-8839-94c34f9bdeec",
   "metadata": {},
   "outputs": [],
   "source": [
    "feature_names = list(\n",
    "    filter(\n",
    "        lambda x: x not in [\"PassengerId\", \"Cabin\", \"Name\", target_name],\n",
    "        all_data.columns,\n",
    "    )\n",
    ")"
   ]
  },
  {
   "cell_type": "code",
   "execution_count": 24,
   "id": "895aae90-3807-4347-8e4e-e0e200cb9668",
   "metadata": {},
   "outputs": [],
   "source": [
    "# If you don't like filters and lambdas you can use list comprehensions\n",
    "\n",
    "feature_names = [\n",
    "    x\n",
    "    for x in all_data.columns\n",
    "    if x not in [\"PassengerId\", \"Cabin\", \"Name\", target_name]\n",
    "]"
   ]
  },
  {
   "cell_type": "code",
   "execution_count": 25,
   "id": "2a6b8cb8-4796-402d-aa0c-536552a4f32d",
   "metadata": {},
   "outputs": [
    {
     "data": {
      "text/plain": [
       "['HomePlanet',\n",
       " 'CryoSleep',\n",
       " 'Destination',\n",
       " 'Age',\n",
       " 'VIP',\n",
       " 'RoomService',\n",
       " 'FoodCourt',\n",
       " 'ShoppingMall',\n",
       " 'Spa',\n",
       " 'VRDeck']"
      ]
     },
     "execution_count": 25,
     "metadata": {},
     "output_type": "execute_result"
    }
   ],
   "source": [
    "feature_names"
   ]
  },
  {
   "cell_type": "code",
   "execution_count": 26,
   "id": "3fb491e1-b02c-43f5-a5c7-f3388a8d2ed3",
   "metadata": {},
   "outputs": [],
   "source": [
    "# train_test_split doesn't make a copy of the dataframe, but just points to the relevant sections of the original dataframe.\n",
    "# We don't have too much data, so we can make a copy.\n",
    "# It will be more convenient than overriding.\n",
    "\n",
    "train_data, val_data = train_test_split(all_data.copy(), random_state=RANDOM_SEED)"
   ]
  },
  {
   "cell_type": "code",
   "execution_count": 27,
   "id": "764793a0-9efe-4d4a-a1cf-e19c5df8727d",
   "metadata": {},
   "outputs": [
    {
     "data": {
      "text/plain": [
       "PassengerId      object\n",
       "HomePlanet       object\n",
       "CryoSleep        object\n",
       "Cabin            object\n",
       "Destination      object\n",
       "Age             float64\n",
       "VIP              object\n",
       "RoomService     float64\n",
       "FoodCourt       float64\n",
       "ShoppingMall    float64\n",
       "Spa             float64\n",
       "VRDeck          float64\n",
       "Name             object\n",
       "Transported        bool\n",
       "dtype: object"
      ]
     },
     "execution_count": 27,
     "metadata": {},
     "output_type": "execute_result"
    }
   ],
   "source": [
    "train_data.dtypes"
   ]
  },
  {
   "cell_type": "markdown",
   "id": "0bb69639-10cd-4c32-bc46-878ce4e20abe",
   "metadata": {},
   "source": [
    "### Handling categorical features "
   ]
  },
  {
   "cell_type": "code",
   "execution_count": 28,
   "id": "d9de36dc-370c-4126-94af-70581ed40a1e",
   "metadata": {},
   "outputs": [],
   "source": [
    "# Not all features are be useful for the model\n",
    "# First let's select the categorical features that are useful\n",
    "\n",
    "categorical_cols = [\"HomePlanet\", \"Destination\"]"
   ]
  },
  {
   "cell_type": "code",
   "execution_count": 29,
   "id": "c7fd1092-7e9f-42b3-972d-214eb7b0b60e",
   "metadata": {},
   "outputs": [],
   "source": [
    "# It's very important to remember the mappings.\n",
    "# Otherwise it will be impossible to reverse the encodings.\n",
    "\n",
    "category_mappings = {}"
   ]
  },
  {
   "cell_type": "code",
   "execution_count": 30,
   "id": "b629416c-24cf-4b39-bb3b-d4a3f54266a7",
   "metadata": {},
   "outputs": [],
   "source": [
    "# pd.Categorical is the right tool to encode data.\n",
    "# It shows the strings to the users and gives numerical data to the ML models.\n",
    "\n",
    "for col in categorical_cols:\n",
    "    train_data[col] = pd.Categorical(train_data[col])\n",
    "    category_mappings[col] = dict(enumerate(train_data[col].cat.categories))"
   ]
  },
  {
   "cell_type": "code",
   "execution_count": 31,
   "id": "c2b6b5e5-d872-4c99-b7db-0f4cff970496",
   "metadata": {},
   "outputs": [],
   "source": [
    "# And this is how to save this category_mappings for the future.\n",
    "\n",
    "with open(Path(DATA_DIR) / \"category_mappings.json\", \"w\", encoding=\"utf-8\") as file:\n",
    "    json.dump(category_mappings, file, ensure_ascii=False, indent=4)"
   ]
  },
  {
   "cell_type": "code",
   "execution_count": 32,
   "id": "a7cc0de1-aa31-4dc4-bcaa-ccb8628d9a28",
   "metadata": {},
   "outputs": [],
   "source": [
    "# Let's use the newly created mappings to convert the val_data\n",
    "\n",
    "for col in categorical_cols:\n",
    "    val_data[col] = pd.Categorical(\n",
    "        val_data[col], categories=category_mappings[col].values()\n",
    "    )"
   ]
  },
  {
   "cell_type": "markdown",
   "id": "10a4c4fc-a076-4f5c-8b3d-dc38f1020a5b",
   "metadata": {},
   "source": [
    "### Handling binary features "
   ]
  },
  {
   "cell_type": "code",
   "execution_count": 33,
   "id": "848e19d5-fb08-4a36-bedc-2ff770fd6650",
   "metadata": {},
   "outputs": [],
   "source": [
    "binary_cols = [\"CryoSleep\", \"VIP\", \"Transported\"]"
   ]
  },
  {
   "cell_type": "code",
   "execution_count": 34,
   "id": "5f81e67a-c68a-45a4-8f85-199fa1bfef07",
   "metadata": {},
   "outputs": [],
   "source": [
    "# We don't need to save any info about binary features.\n",
    "\n",
    "for col in binary_cols:\n",
    "    train_data[col] = train_data[col].astype(bool)\n",
    "    val_data[col] = val_data[col].astype(bool)"
   ]
  },
  {
   "cell_type": "code",
   "execution_count": 35,
   "id": "c14e1744-e567-4a2a-9a8a-054a8fe082b9",
   "metadata": {},
   "outputs": [
    {
     "data": {
      "text/plain": [
       "PassengerId       object\n",
       "HomePlanet      category\n",
       "CryoSleep           bool\n",
       "Cabin             object\n",
       "Destination     category\n",
       "Age              float64\n",
       "VIP                 bool\n",
       "RoomService      float64\n",
       "FoodCourt        float64\n",
       "ShoppingMall     float64\n",
       "Spa              float64\n",
       "VRDeck           float64\n",
       "Name              object\n",
       "Transported         bool\n",
       "dtype: object"
      ]
     },
     "execution_count": 35,
     "metadata": {},
     "output_type": "execute_result"
    }
   ],
   "source": [
    "# Our data should be ready for training.\n",
    "# Let's take a look\n",
    "\n",
    "train_data.dtypes"
   ]
  },
  {
   "cell_type": "code",
   "execution_count": 36,
   "id": "72f47685-acbf-4a76-a410-84d5e1c9145d",
   "metadata": {},
   "outputs": [
    {
     "data": {
      "text/html": [
       "<div>\n",
       "<style scoped>\n",
       "    .dataframe tbody tr th:only-of-type {\n",
       "        vertical-align: middle;\n",
       "    }\n",
       "\n",
       "    .dataframe tbody tr th {\n",
       "        vertical-align: top;\n",
       "    }\n",
       "\n",
       "    .dataframe thead th {\n",
       "        text-align: right;\n",
       "    }\n",
       "</style>\n",
       "<table border=\"1\" class=\"dataframe\">\n",
       "  <thead>\n",
       "    <tr style=\"text-align: right;\">\n",
       "      <th></th>\n",
       "      <th>PassengerId</th>\n",
       "      <th>HomePlanet</th>\n",
       "      <th>CryoSleep</th>\n",
       "      <th>Cabin</th>\n",
       "      <th>Destination</th>\n",
       "      <th>Age</th>\n",
       "      <th>VIP</th>\n",
       "      <th>RoomService</th>\n",
       "      <th>FoodCourt</th>\n",
       "      <th>ShoppingMall</th>\n",
       "      <th>Spa</th>\n",
       "      <th>VRDeck</th>\n",
       "      <th>Name</th>\n",
       "      <th>Transported</th>\n",
       "    </tr>\n",
       "  </thead>\n",
       "  <tbody>\n",
       "    <tr>\n",
       "      <th>2744</th>\n",
       "      <td>2944_04</td>\n",
       "      <td>Earth</td>\n",
       "      <td>False</td>\n",
       "      <td>G/469/S</td>\n",
       "      <td>TRAPPIST-1e</td>\n",
       "      <td>0.0</td>\n",
       "      <td>False</td>\n",
       "      <td>0.0</td>\n",
       "      <td>0.0</td>\n",
       "      <td>0.0</td>\n",
       "      <td>0.0</td>\n",
       "      <td>0.0</td>\n",
       "      <td>Terta Nichoan</td>\n",
       "      <td>True</td>\n",
       "    </tr>\n",
       "    <tr>\n",
       "      <th>7013</th>\n",
       "      <td>7458_01</td>\n",
       "      <td>Earth</td>\n",
       "      <td>True</td>\n",
       "      <td>G/1211/S</td>\n",
       "      <td>TRAPPIST-1e</td>\n",
       "      <td>64.0</td>\n",
       "      <td>False</td>\n",
       "      <td>0.0</td>\n",
       "      <td>0.0</td>\n",
       "      <td>0.0</td>\n",
       "      <td>0.0</td>\n",
       "      <td>0.0</td>\n",
       "      <td>Fayey Vincenton</td>\n",
       "      <td>False</td>\n",
       "    </tr>\n",
       "    <tr>\n",
       "      <th>254</th>\n",
       "      <td>0282_01</td>\n",
       "      <td>Earth</td>\n",
       "      <td>False</td>\n",
       "      <td>F/54/S</td>\n",
       "      <td>TRAPPIST-1e</td>\n",
       "      <td>21.0</td>\n",
       "      <td>False</td>\n",
       "      <td>0.0</td>\n",
       "      <td>918.0</td>\n",
       "      <td>0.0</td>\n",
       "      <td>0.0</td>\n",
       "      <td>0.0</td>\n",
       "      <td>Valex Baketton</td>\n",
       "      <td>True</td>\n",
       "    </tr>\n",
       "    <tr>\n",
       "      <th>5689</th>\n",
       "      <td>6032_02</td>\n",
       "      <td>NaN</td>\n",
       "      <td>False</td>\n",
       "      <td>E/397/S</td>\n",
       "      <td>TRAPPIST-1e</td>\n",
       "      <td>40.0</td>\n",
       "      <td>False</td>\n",
       "      <td>521.0</td>\n",
       "      <td>4.0</td>\n",
       "      <td>53.0</td>\n",
       "      <td>70.0</td>\n",
       "      <td>141.0</td>\n",
       "      <td>Lison Mcdowns</td>\n",
       "      <td>False</td>\n",
       "    </tr>\n",
       "    <tr>\n",
       "      <th>5849</th>\n",
       "      <td>6191_03</td>\n",
       "      <td>Europa</td>\n",
       "      <td>True</td>\n",
       "      <td>A/59/P</td>\n",
       "      <td>TRAPPIST-1e</td>\n",
       "      <td>45.0</td>\n",
       "      <td>False</td>\n",
       "      <td>0.0</td>\n",
       "      <td>0.0</td>\n",
       "      <td>0.0</td>\n",
       "      <td>0.0</td>\n",
       "      <td>0.0</td>\n",
       "      <td>Taurah Ametic</td>\n",
       "      <td>True</td>\n",
       "    </tr>\n",
       "    <tr>\n",
       "      <th>...</th>\n",
       "      <td>...</td>\n",
       "      <td>...</td>\n",
       "      <td>...</td>\n",
       "      <td>...</td>\n",
       "      <td>...</td>\n",
       "      <td>...</td>\n",
       "      <td>...</td>\n",
       "      <td>...</td>\n",
       "      <td>...</td>\n",
       "      <td>...</td>\n",
       "      <td>...</td>\n",
       "      <td>...</td>\n",
       "      <td>...</td>\n",
       "      <td>...</td>\n",
       "    </tr>\n",
       "    <tr>\n",
       "      <th>266</th>\n",
       "      <td>0290_03</td>\n",
       "      <td>Europa</td>\n",
       "      <td>True</td>\n",
       "      <td>B/7/S</td>\n",
       "      <td>TRAPPIST-1e</td>\n",
       "      <td>43.0</td>\n",
       "      <td>False</td>\n",
       "      <td>0.0</td>\n",
       "      <td>0.0</td>\n",
       "      <td>0.0</td>\n",
       "      <td>0.0</td>\n",
       "      <td>0.0</td>\n",
       "      <td>Dhenar Excialing</td>\n",
       "      <td>True</td>\n",
       "    </tr>\n",
       "    <tr>\n",
       "      <th>1209</th>\n",
       "      <td>1288_01</td>\n",
       "      <td>Earth</td>\n",
       "      <td>False</td>\n",
       "      <td>G/192/P</td>\n",
       "      <td>TRAPPIST-1e</td>\n",
       "      <td>24.0</td>\n",
       "      <td>False</td>\n",
       "      <td>621.0</td>\n",
       "      <td>0.0</td>\n",
       "      <td>0.0</td>\n",
       "      <td>0.0</td>\n",
       "      <td>0.0</td>\n",
       "      <td>Nance Flemaney</td>\n",
       "      <td>False</td>\n",
       "    </tr>\n",
       "    <tr>\n",
       "      <th>2675</th>\n",
       "      <td>2866_01</td>\n",
       "      <td>Europa</td>\n",
       "      <td>True</td>\n",
       "      <td>C/110/S</td>\n",
       "      <td>TRAPPIST-1e</td>\n",
       "      <td>36.0</td>\n",
       "      <td>True</td>\n",
       "      <td>0.0</td>\n",
       "      <td>0.0</td>\n",
       "      <td>0.0</td>\n",
       "      <td>0.0</td>\n",
       "      <td>0.0</td>\n",
       "      <td>Hadirk Wheededly</td>\n",
       "      <td>True</td>\n",
       "    </tr>\n",
       "    <tr>\n",
       "      <th>4671</th>\n",
       "      <td>4979_01</td>\n",
       "      <td>Earth</td>\n",
       "      <td>True</td>\n",
       "      <td>G/804/P</td>\n",
       "      <td>PSO J318.5-22</td>\n",
       "      <td>24.0</td>\n",
       "      <td>False</td>\n",
       "      <td>0.0</td>\n",
       "      <td>0.0</td>\n",
       "      <td>0.0</td>\n",
       "      <td>0.0</td>\n",
       "      <td>0.0</td>\n",
       "      <td>Arllia Mckinn</td>\n",
       "      <td>False</td>\n",
       "    </tr>\n",
       "    <tr>\n",
       "      <th>4486</th>\n",
       "      <td>4774_01</td>\n",
       "      <td>Mars</td>\n",
       "      <td>True</td>\n",
       "      <td>F/972/P</td>\n",
       "      <td>TRAPPIST-1e</td>\n",
       "      <td>0.0</td>\n",
       "      <td>False</td>\n",
       "      <td>0.0</td>\n",
       "      <td>0.0</td>\n",
       "      <td>0.0</td>\n",
       "      <td>0.0</td>\n",
       "      <td>0.0</td>\n",
       "      <td>Siese Perty</td>\n",
       "      <td>True</td>\n",
       "    </tr>\n",
       "  </tbody>\n",
       "</table>\n",
       "<p>6519 rows × 14 columns</p>\n",
       "</div>"
      ],
      "text/plain": [
       "     PassengerId HomePlanet  CryoSleep     Cabin    Destination   Age    VIP  \\\n",
       "2744     2944_04      Earth      False   G/469/S    TRAPPIST-1e   0.0  False   \n",
       "7013     7458_01      Earth       True  G/1211/S    TRAPPIST-1e  64.0  False   \n",
       "254      0282_01      Earth      False    F/54/S    TRAPPIST-1e  21.0  False   \n",
       "5689     6032_02        NaN      False   E/397/S    TRAPPIST-1e  40.0  False   \n",
       "5849     6191_03     Europa       True    A/59/P    TRAPPIST-1e  45.0  False   \n",
       "...          ...        ...        ...       ...            ...   ...    ...   \n",
       "266      0290_03     Europa       True     B/7/S    TRAPPIST-1e  43.0  False   \n",
       "1209     1288_01      Earth      False   G/192/P    TRAPPIST-1e  24.0  False   \n",
       "2675     2866_01     Europa       True   C/110/S    TRAPPIST-1e  36.0   True   \n",
       "4671     4979_01      Earth       True   G/804/P  PSO J318.5-22  24.0  False   \n",
       "4486     4774_01       Mars       True   F/972/P    TRAPPIST-1e   0.0  False   \n",
       "\n",
       "      RoomService  FoodCourt  ShoppingMall   Spa  VRDeck              Name  \\\n",
       "2744          0.0        0.0           0.0   0.0     0.0     Terta Nichoan   \n",
       "7013          0.0        0.0           0.0   0.0     0.0   Fayey Vincenton   \n",
       "254           0.0      918.0           0.0   0.0     0.0    Valex Baketton   \n",
       "5689        521.0        4.0          53.0  70.0   141.0     Lison Mcdowns   \n",
       "5849          0.0        0.0           0.0   0.0     0.0     Taurah Ametic   \n",
       "...           ...        ...           ...   ...     ...               ...   \n",
       "266           0.0        0.0           0.0   0.0     0.0  Dhenar Excialing   \n",
       "1209        621.0        0.0           0.0   0.0     0.0    Nance Flemaney   \n",
       "2675          0.0        0.0           0.0   0.0     0.0  Hadirk Wheededly   \n",
       "4671          0.0        0.0           0.0   0.0     0.0     Arllia Mckinn   \n",
       "4486          0.0        0.0           0.0   0.0     0.0       Siese Perty   \n",
       "\n",
       "      Transported  \n",
       "2744         True  \n",
       "7013        False  \n",
       "254          True  \n",
       "5689        False  \n",
       "5849         True  \n",
       "...           ...  \n",
       "266          True  \n",
       "1209        False  \n",
       "2675         True  \n",
       "4671        False  \n",
       "4486         True  \n",
       "\n",
       "[6519 rows x 14 columns]"
      ]
     },
     "execution_count": 36,
     "metadata": {},
     "output_type": "execute_result"
    }
   ],
   "source": [
    "train_data"
   ]
  },
  {
   "cell_type": "code",
   "execution_count": 37,
   "id": "acf753a0-e505-4879-9e3c-c8006f4dd998",
   "metadata": {},
   "outputs": [
    {
     "data": {
      "text/html": [
       "<div>\n",
       "<style scoped>\n",
       "    .dataframe tbody tr th:only-of-type {\n",
       "        vertical-align: middle;\n",
       "    }\n",
       "\n",
       "    .dataframe tbody tr th {\n",
       "        vertical-align: top;\n",
       "    }\n",
       "\n",
       "    .dataframe thead th {\n",
       "        text-align: right;\n",
       "    }\n",
       "</style>\n",
       "<table border=\"1\" class=\"dataframe\">\n",
       "  <thead>\n",
       "    <tr style=\"text-align: right;\">\n",
       "      <th></th>\n",
       "      <th>PassengerId</th>\n",
       "      <th>HomePlanet</th>\n",
       "      <th>CryoSleep</th>\n",
       "      <th>Cabin</th>\n",
       "      <th>Destination</th>\n",
       "      <th>Age</th>\n",
       "      <th>VIP</th>\n",
       "      <th>RoomService</th>\n",
       "      <th>FoodCourt</th>\n",
       "      <th>ShoppingMall</th>\n",
       "      <th>Spa</th>\n",
       "      <th>VRDeck</th>\n",
       "      <th>Name</th>\n",
       "      <th>Transported</th>\n",
       "    </tr>\n",
       "  </thead>\n",
       "  <tbody>\n",
       "    <tr>\n",
       "      <th>2276</th>\n",
       "      <td>2445_01</td>\n",
       "      <td>Earth</td>\n",
       "      <td>False</td>\n",
       "      <td>E/170/S</td>\n",
       "      <td>NaN</td>\n",
       "      <td>43.0</td>\n",
       "      <td>False</td>\n",
       "      <td>602.0</td>\n",
       "      <td>3.0</td>\n",
       "      <td>27.0</td>\n",
       "      <td>89.0</td>\n",
       "      <td>69.0</td>\n",
       "      <td>Sanney Lerez</td>\n",
       "      <td>False</td>\n",
       "    </tr>\n",
       "    <tr>\n",
       "      <th>2155</th>\n",
       "      <td>2306_06</td>\n",
       "      <td>Europa</td>\n",
       "      <td>False</td>\n",
       "      <td>C/82/P</td>\n",
       "      <td>55 Cancri e</td>\n",
       "      <td>47.0</td>\n",
       "      <td>False</td>\n",
       "      <td>1320.0</td>\n",
       "      <td>428.0</td>\n",
       "      <td>4.0</td>\n",
       "      <td>24.0</td>\n",
       "      <td>0.0</td>\n",
       "      <td>Luxons Colensid</td>\n",
       "      <td>False</td>\n",
       "    </tr>\n",
       "    <tr>\n",
       "      <th>2940</th>\n",
       "      <td>3189_02</td>\n",
       "      <td>Mars</td>\n",
       "      <td>True</td>\n",
       "      <td>D/102/P</td>\n",
       "      <td>TRAPPIST-1e</td>\n",
       "      <td>25.0</td>\n",
       "      <td>False</td>\n",
       "      <td>1299.0</td>\n",
       "      <td>0.0</td>\n",
       "      <td>0.0</td>\n",
       "      <td>0.0</td>\n",
       "      <td>0.0</td>\n",
       "      <td>Womel Che</td>\n",
       "      <td>False</td>\n",
       "    </tr>\n",
       "    <tr>\n",
       "      <th>1731</th>\n",
       "      <td>1844_02</td>\n",
       "      <td>Earth</td>\n",
       "      <td>True</td>\n",
       "      <td>G/289/S</td>\n",
       "      <td>TRAPPIST-1e</td>\n",
       "      <td>2.0</td>\n",
       "      <td>False</td>\n",
       "      <td>0.0</td>\n",
       "      <td>0.0</td>\n",
       "      <td>0.0</td>\n",
       "      <td>0.0</td>\n",
       "      <td>0.0</td>\n",
       "      <td>Garley Stannondez</td>\n",
       "      <td>True</td>\n",
       "    </tr>\n",
       "    <tr>\n",
       "      <th>4217</th>\n",
       "      <td>4493_01</td>\n",
       "      <td>Earth</td>\n",
       "      <td>False</td>\n",
       "      <td>F/845/S</td>\n",
       "      <td>TRAPPIST-1e</td>\n",
       "      <td>26.0</td>\n",
       "      <td>False</td>\n",
       "      <td>42.0</td>\n",
       "      <td>65.0</td>\n",
       "      <td>895.0</td>\n",
       "      <td>407.0</td>\n",
       "      <td>0.0</td>\n",
       "      <td>Sus Coolez</td>\n",
       "      <td>True</td>\n",
       "    </tr>\n",
       "    <tr>\n",
       "      <th>...</th>\n",
       "      <td>...</td>\n",
       "      <td>...</td>\n",
       "      <td>...</td>\n",
       "      <td>...</td>\n",
       "      <td>...</td>\n",
       "      <td>...</td>\n",
       "      <td>...</td>\n",
       "      <td>...</td>\n",
       "      <td>...</td>\n",
       "      <td>...</td>\n",
       "      <td>...</td>\n",
       "      <td>...</td>\n",
       "      <td>...</td>\n",
       "      <td>...</td>\n",
       "    </tr>\n",
       "    <tr>\n",
       "      <th>7920</th>\n",
       "      <td>8458_04</td>\n",
       "      <td>Europa</td>\n",
       "      <td>True</td>\n",
       "      <td>C/319/S</td>\n",
       "      <td>TRAPPIST-1e</td>\n",
       "      <td>54.0</td>\n",
       "      <td>False</td>\n",
       "      <td>0.0</td>\n",
       "      <td>0.0</td>\n",
       "      <td>0.0</td>\n",
       "      <td>0.0</td>\n",
       "      <td>0.0</td>\n",
       "      <td>Tachib Sempreate</td>\n",
       "      <td>True</td>\n",
       "    </tr>\n",
       "    <tr>\n",
       "      <th>4504</th>\n",
       "      <td>4787_01</td>\n",
       "      <td>Earth</td>\n",
       "      <td>False</td>\n",
       "      <td>G/780/S</td>\n",
       "      <td>TRAPPIST-1e</td>\n",
       "      <td>19.0</td>\n",
       "      <td>False</td>\n",
       "      <td>2.0</td>\n",
       "      <td>0.0</td>\n",
       "      <td>NaN</td>\n",
       "      <td>9.0</td>\n",
       "      <td>754.0</td>\n",
       "      <td>Milyla Lancock</td>\n",
       "      <td>False</td>\n",
       "    </tr>\n",
       "    <tr>\n",
       "      <th>8536</th>\n",
       "      <td>9115_01</td>\n",
       "      <td>Earth</td>\n",
       "      <td>False</td>\n",
       "      <td>F/1867/P</td>\n",
       "      <td>PSO J318.5-22</td>\n",
       "      <td>53.0</td>\n",
       "      <td>False</td>\n",
       "      <td>1215.0</td>\n",
       "      <td>0.0</td>\n",
       "      <td>0.0</td>\n",
       "      <td>0.0</td>\n",
       "      <td>0.0</td>\n",
       "      <td>Chesty Wolffy</td>\n",
       "      <td>False</td>\n",
       "    </tr>\n",
       "    <tr>\n",
       "      <th>2871</th>\n",
       "      <td>3102_01</td>\n",
       "      <td>Europa</td>\n",
       "      <td>True</td>\n",
       "      <td>B/101/P</td>\n",
       "      <td>55 Cancri e</td>\n",
       "      <td>30.0</td>\n",
       "      <td>False</td>\n",
       "      <td>0.0</td>\n",
       "      <td>0.0</td>\n",
       "      <td>0.0</td>\n",
       "      <td>0.0</td>\n",
       "      <td>0.0</td>\n",
       "      <td>Tachba Mirinanty</td>\n",
       "      <td>True</td>\n",
       "    </tr>\n",
       "    <tr>\n",
       "      <th>4333</th>\n",
       "      <td>4620_01</td>\n",
       "      <td>Earth</td>\n",
       "      <td>True</td>\n",
       "      <td>G/757/S</td>\n",
       "      <td>TRAPPIST-1e</td>\n",
       "      <td>46.0</td>\n",
       "      <td>False</td>\n",
       "      <td>0.0</td>\n",
       "      <td>0.0</td>\n",
       "      <td>0.0</td>\n",
       "      <td>0.0</td>\n",
       "      <td>0.0</td>\n",
       "      <td>Evey Heney</td>\n",
       "      <td>False</td>\n",
       "    </tr>\n",
       "  </tbody>\n",
       "</table>\n",
       "<p>2174 rows × 14 columns</p>\n",
       "</div>"
      ],
      "text/plain": [
       "     PassengerId HomePlanet  CryoSleep     Cabin    Destination   Age    VIP  \\\n",
       "2276     2445_01      Earth      False   E/170/S            NaN  43.0  False   \n",
       "2155     2306_06     Europa      False    C/82/P    55 Cancri e  47.0  False   \n",
       "2940     3189_02       Mars       True   D/102/P    TRAPPIST-1e  25.0  False   \n",
       "1731     1844_02      Earth       True   G/289/S    TRAPPIST-1e   2.0  False   \n",
       "4217     4493_01      Earth      False   F/845/S    TRAPPIST-1e  26.0  False   \n",
       "...          ...        ...        ...       ...            ...   ...    ...   \n",
       "7920     8458_04     Europa       True   C/319/S    TRAPPIST-1e  54.0  False   \n",
       "4504     4787_01      Earth      False   G/780/S    TRAPPIST-1e  19.0  False   \n",
       "8536     9115_01      Earth      False  F/1867/P  PSO J318.5-22  53.0  False   \n",
       "2871     3102_01     Europa       True   B/101/P    55 Cancri e  30.0  False   \n",
       "4333     4620_01      Earth       True   G/757/S    TRAPPIST-1e  46.0  False   \n",
       "\n",
       "      RoomService  FoodCourt  ShoppingMall    Spa  VRDeck               Name  \\\n",
       "2276        602.0        3.0          27.0   89.0    69.0       Sanney Lerez   \n",
       "2155       1320.0      428.0           4.0   24.0     0.0    Luxons Colensid   \n",
       "2940       1299.0        0.0           0.0    0.0     0.0          Womel Che   \n",
       "1731          0.0        0.0           0.0    0.0     0.0  Garley Stannondez   \n",
       "4217         42.0       65.0         895.0  407.0     0.0         Sus Coolez   \n",
       "...           ...        ...           ...    ...     ...                ...   \n",
       "7920          0.0        0.0           0.0    0.0     0.0   Tachib Sempreate   \n",
       "4504          2.0        0.0           NaN    9.0   754.0     Milyla Lancock   \n",
       "8536       1215.0        0.0           0.0    0.0     0.0      Chesty Wolffy   \n",
       "2871          0.0        0.0           0.0    0.0     0.0   Tachba Mirinanty   \n",
       "4333          0.0        0.0           0.0    0.0     0.0         Evey Heney   \n",
       "\n",
       "      Transported  \n",
       "2276        False  \n",
       "2155        False  \n",
       "2940        False  \n",
       "1731         True  \n",
       "4217         True  \n",
       "...           ...  \n",
       "7920         True  \n",
       "4504        False  \n",
       "8536        False  \n",
       "2871         True  \n",
       "4333        False  \n",
       "\n",
       "[2174 rows x 14 columns]"
      ]
     },
     "execution_count": 37,
     "metadata": {},
     "output_type": "execute_result"
    }
   ],
   "source": [
    "val_data"
   ]
  },
  {
   "cell_type": "markdown",
   "id": "c5799905-dd1b-4621-a7a2-a1996d162363",
   "metadata": {},
   "source": [
    "## Creating the model"
   ]
  },
  {
   "cell_type": "code",
   "execution_count": 38,
   "id": "0ae97628-65b9-453e-b1df-5d3cd0404b0b",
   "metadata": {},
   "outputs": [],
   "source": [
    "# Task 1: get the highest F1 macro score.\n",
    "# You only have 5 minutes to do that."
   ]
  },
  {
   "cell_type": "code",
   "execution_count": 39,
   "id": "dc39a56a-3050-4495-b7ef-3deb260d191c",
   "metadata": {},
   "outputs": [],
   "source": [
    "model = AutoSklearnClassifier(\n",
    "    time_left_for_this_task=60 * 2,\n",
    "    memory_limit=USABLE_MEMORY_PER_CORE,\n",
    "    n_jobs=N_CORES,\n",
    "    metric=autosklearn.metrics.roc_auc,\n",
    ")"
   ]
  },
  {
   "cell_type": "code",
   "execution_count": null,
   "id": "8c6024ea-b0a8-4b5d-bb70-823a532cd244",
   "metadata": {},
   "outputs": [],
   "source": [
    "model.fit(\n",
    "    train_data[feature_names],\n",
    "    train_data[target_name],\n",
    ")"
   ]
  },
  {
   "cell_type": "code",
   "execution_count": null,
   "id": "5783de20-919d-4838-be6b-daaffb055c77",
   "metadata": {},
   "outputs": [],
   "source": [
    "Path(MODELS_DIR).mkdir(parents=True, exist_ok=True)"
   ]
  },
  {
   "cell_type": "code",
   "execution_count": null,
   "id": "56bcc281-1737-45e8-a5e5-2dca51cb227c",
   "metadata": {},
   "outputs": [],
   "source": [
    "with open(Path(MODELS_DIR) / \"model1.pkl\", \"wb\") as file:\n",
    "    pickle.dump(model, file)"
   ]
  },
  {
   "cell_type": "code",
   "execution_count": null,
   "id": "bf047275-304e-4f5b-a5db-5a4baa920688",
   "metadata": {},
   "outputs": [],
   "source": [
    "with open(Path(MODELS_DIR) / \"model1.pkl\", \"rb\") as file:\n",
    "    model = pickle.load(file)"
   ]
  },
  {
   "cell_type": "code",
   "execution_count": null,
   "id": "a856c365-5f7b-46bd-bef9-72cc20c9de10",
   "metadata": {},
   "outputs": [],
   "source": [
    "pred_data = model.predict(val_data[feature_names], n_jobs=-1)"
   ]
  },
  {
   "cell_type": "code",
   "execution_count": 58,
   "id": "64e2402a-940f-4e0f-89f9-ba6e18b56125",
   "metadata": {},
   "outputs": [
    {
     "name": "stdout",
     "output_type": "stream",
     "text": [
      "              precision    recall  f1-score   support\n",
      "\n",
      "       False       0.85      0.71      0.77      1087\n",
      "        True       0.75      0.88      0.81      1087\n",
      "\n",
      "    accuracy                           0.79      2174\n",
      "   macro avg       0.80      0.79      0.79      2174\n",
      "weighted avg       0.80      0.79      0.79      2174\n",
      "\n"
     ]
    }
   ],
   "source": [
    "print(classification_report(val_data[[target_name]], pred_data))"
   ]
  },
  {
   "cell_type": "code",
   "execution_count": 59,
   "id": "386167b7-d222-4dac-990a-16e8d9810d6e",
   "metadata": {},
   "outputs": [],
   "source": [
    "# A reasonable expected performance\n",
    "\n",
    "#               precision    recall  f1-score   support\n",
    "\n",
    "#        False       0.83      0.75      0.79      1065\n",
    "#         True       0.78      0.85      0.82      1109\n",
    "\n",
    "#     accuracy                           0.80      2174\n",
    "#    macro avg       0.81      0.80      0.80      2174\n",
    "# weighted avg       0.81      0.80      0.80      2174"
   ]
  },
  {
   "cell_type": "markdown",
   "id": "90acb446-4359-42b9-97aa-4950a2606f8d",
   "metadata": {},
   "source": [
    "## Feature Store\n",
    "\n",
    "Feature store allows you to store and later get features.\n",
    "Most importantly it allows you to get features for both training and (real-time) inference.\n",
    "\n",
    "### Which features should stored be in the feature store?\n",
    "\n",
    "Derived features. Doing aggregations and other transformations \n",
    "\n",
    "### What are the limitations of Vinted's feature store?\n",
    "\n",
    "1-24 hour delay between when the event took place and the feature depending on that event is available to use (for now). This is because of how our data warehouse jobs are scheduled. There are 1 or 24 hour jobs.\n",
    "\n",
    "Feature engineering has to be done in the data warehouse jobs."
   ]
  },
  {
   "cell_type": "code",
   "execution_count": 60,
   "id": "f90b9b7b-6534-4fb0-a4f8-40bde062a69a",
   "metadata": {},
   "outputs": [],
   "source": [
    "# Q: what value does the feature store bring to you?\n",
    "# A1: real-time derived features\n",
    "# A2: prepared shareable features for training and inference\n",
    "# A3: feature self-service - you won't depend on the backend engineers to create and send you features"
   ]
  },
  {
   "cell_type": "code",
   "execution_count": 61,
   "id": "45c01177-4547-48fa-aca4-212923b8824f",
   "metadata": {},
   "outputs": [
    {
     "name": "stdout",
     "output_type": "stream",
     "text": [
      "\n",
      "Creating a new Feast repository in \u001b[1m\u001b[32m/home/jupyter/feature_store\u001b[0m.\n",
      "\n"
     ]
    }
   ],
   "source": [
    "# Let's make sure that the feature store directory is free and initialize the feature store.\n",
    "\n",
    "!rm -rf {FEATURE_STORE_DIR}\n",
    "!feast init {FEATURE_STORE_DIR}"
   ]
  },
  {
   "cell_type": "code",
   "execution_count": 62,
   "id": "00d2cdca-eb12-47e5-84d5-ee4ab9c74ce9",
   "metadata": {},
   "outputs": [],
   "source": [
    "# Feast doesn't support CSV files, so we need to convert our CSV files to Parquet\n",
    "# https://github.com/feast-dev/feast/issues/2563"
   ]
  },
  {
   "cell_type": "code",
   "execution_count": 63,
   "id": "c8334e4a-2758-40ce-97bb-a27688d455d4",
   "metadata": {},
   "outputs": [],
   "source": [
    "# In addition, Parquet supports categorical encoding"
   ]
  },
  {
   "cell_type": "code",
   "execution_count": 64,
   "id": "d6e58fc9-fd6d-4b49-a10d-cfa3937ed4fb",
   "metadata": {},
   "outputs": [],
   "source": [
    "# We will only store some data in the feature store.\n",
    "# This will replicate a typical work scenario, where only some of the features are available in the feature store."
   ]
  },
  {
   "cell_type": "code",
   "execution_count": 65,
   "id": "7994efa3-3134-422e-8834-2093871dbd08",
   "metadata": {},
   "outputs": [],
   "source": [
    "fs_feature_names = [\n",
    "    \"HomePlanet\",\n",
    "    \"CryoSleep\",\n",
    "    \"Destination\",\n",
    "    \"Age\",\n",
    "    \"VIP\",\n",
    "    \"Transported\",\n",
    "]\n",
    "request_feature_names = [name for name in feature_names if name not in fs_feature_names]"
   ]
  },
  {
   "cell_type": "code",
   "execution_count": 66,
   "id": "cedf0982-fa68-4988-ae7e-d900db54cd79",
   "metadata": {},
   "outputs": [
    {
     "data": {
      "text/plain": [
       "['RoomService', 'FoodCourt', 'ShoppingMall', 'Spa', 'VRDeck']"
      ]
     },
     "execution_count": 66,
     "metadata": {},
     "output_type": "execute_result"
    }
   ],
   "source": [
    "request_feature_names"
   ]
  },
  {
   "cell_type": "code",
   "execution_count": 67,
   "id": "fca28469-7a8a-49e5-ac54-a2ba4346f8f7",
   "metadata": {},
   "outputs": [],
   "source": [
    "data_for_feast = all_data.copy()\n",
    "\n",
    "for col in categorical_cols:\n",
    "    data_for_feast[col] = pd.Categorical(\n",
    "        data_for_feast[col], categories=category_mappings[col].values()\n",
    "    )\n",
    "\n",
    "for col in binary_cols:\n",
    "    data_for_feast[col] = data_for_feast[col].astype(bool)"
   ]
  },
  {
   "cell_type": "code",
   "execution_count": 68,
   "id": "8abba421-6c77-418a-b6e0-1fab2f790ae1",
   "metadata": {},
   "outputs": [],
   "source": [
    "# Feast also needs an event timestamp column named \"event_timestamp\" to keep track of the updates\n",
    "# https://github.com/feast-dev/feast/issues/2257"
   ]
  },
  {
   "cell_type": "code",
   "execution_count": 69,
   "id": "4b862238-fc0c-433b-a430-989842b75015",
   "metadata": {},
   "outputs": [],
   "source": [
    "data_for_feast[\"event_timestamp\"] = np.datetime64(\"2022-04-20\")\n",
    "data_for_feast.drop(request_feature_names, axis=1, inplace=True)\n",
    "data_for_feast.to_parquet(\"/home/jupyter/data/train.parquet\")\n",
    "del data_for_feast"
   ]
  },
  {
   "cell_type": "code",
   "execution_count": 70,
   "id": "5b98732a-82db-4c9c-ae81-753526e8f1fc",
   "metadata": {},
   "outputs": [
    {
     "ename": "SyntaxError",
     "evalue": "invalid syntax (3934617454.py, line 1)",
     "output_type": "error",
     "traceback": [
      "\u001b[0;36m  File \u001b[0;32m\"/tmp/ipykernel_6922/3934617454.py\"\u001b[0;36m, line \u001b[0;32m1\u001b[0m\n\u001b[0;31m    Replace the contents of the feature_store/example.py with the contents of example.py from the workshop repo\u001b[0m\n\u001b[0m              ^\u001b[0m\n\u001b[0;31mSyntaxError\u001b[0m\u001b[0;31m:\u001b[0m invalid syntax\n"
     ]
    },
    {
     "name": "stdout",
     "output_type": "stream",
     "text": [
      "[ERROR] [2022-07-27 18:50:25,846:root] Cannot parse: 1:8: Replace the contents of the feature_store/example.py with the contents of example.py from the workshop repo\n",
      "Traceback (most recent call last):\n",
      "  File \"/opt/conda/lib/python3.7/site-packages/lab_black.py\", line 218, in format_cell\n",
      "    formatted_code = _format_code(cell)\n",
      "  File \"/opt/conda/lib/python3.7/site-packages/lab_black.py\", line 29, in _format_code\n",
      "    return format_str(src_contents=code, mode=FileMode())\n",
      "  File \"/opt/conda/lib/python3.7/site-packages/black/__init__.py\", line 1163, in format_str\n",
      "    dst_contents = _format_str_once(src_contents, mode=mode)\n",
      "  File \"/opt/conda/lib/python3.7/site-packages/black/__init__.py\", line 1173, in _format_str_once\n",
      "    src_node = lib2to3_parse(src_contents.lstrip(), mode.target_versions)\n",
      "  File \"/opt/conda/lib/python3.7/site-packages/black/parsing.py\", line 128, in lib2to3_parse\n",
      "    raise exc from None\n",
      "black.parsing.InvalidInput: Cannot parse: 1:8: Replace the contents of the feature_store/example.py with the contents of example.py from the workshop repo\n"
     ]
    }
   ],
   "source": [
    "Replace the contents of the feature_store/example.py with the contents of example.py from the workshop repo"
   ]
  },
  {
   "cell_type": "code",
   "execution_count": 71,
   "id": "83de829c-097a-4e67-a6ab-51a6a4c06c68",
   "metadata": {},
   "outputs": [],
   "source": [
    "# Feast tries to read all Python files in the directory.\n",
    "# Since you've opened the feature store dict Jupyter created \".ipynb_checkpoints\" folder in there.\n",
    "# It will cause issues, so you need to remove it by running:\n",
    "\n",
    "!rm -rf feature_store/.ipynb_checkpoints/"
   ]
  },
  {
   "cell_type": "code",
   "execution_count": 72,
   "id": "68033f8c-019a-415b-8a4d-147ab30e5754",
   "metadata": {},
   "outputs": [
    {
     "name": "stdout",
     "output_type": "stream",
     "text": [
      "Created entity \u001b[1m\u001b[32mpassenger\u001b[0m\n",
      "Created feature view \u001b[1m\u001b[32mspace_titanic\u001b[0m\n",
      "Created feature service \u001b[1m\u001b[32mspace_titanic\u001b[0m\n",
      "\n",
      "Created sqlite table \u001b[1m\u001b[32mfeature_store_space_titanic\u001b[0m\n",
      "\n"
     ]
    }
   ],
   "source": [
    "# feast apply will create (or update) a feature store deployment\n",
    "\n",
    "!cd feature_store && feast apply"
   ]
  },
  {
   "cell_type": "code",
   "execution_count": 73,
   "id": "edb255b1-e93f-48ea-b8e7-2e0e207dde0e",
   "metadata": {},
   "outputs": [],
   "source": [
    "from feast import FeatureStore"
   ]
  },
  {
   "cell_type": "code",
   "execution_count": 74,
   "id": "34d66777-0553-4fc7-90f0-ed4b4ddecbb9",
   "metadata": {},
   "outputs": [],
   "source": [
    "# We will assume that \"partial_data\" will contain features that are NOT going to be in the feature store\n",
    "# Q: Where will they come from?\n",
    "# A: The request to your model.\n",
    "\n",
    "partial_data = all_data[[\"PassengerId\", *request_feature_names]].copy()"
   ]
  },
  {
   "cell_type": "code",
   "execution_count": 75,
   "id": "6e8c4abb-4d5c-4257-ae30-648025171c36",
   "metadata": {},
   "outputs": [],
   "source": [
    "partial_data[\"event_timestamp\"] = np.datetime64(\"2022-04-20\")"
   ]
  },
  {
   "cell_type": "code",
   "execution_count": 76,
   "id": "1326dc7b-c5ee-459c-8038-fdb9deb86ef0",
   "metadata": {},
   "outputs": [],
   "source": [
    "store = FeatureStore(repo_path=FEATURE_STORE_DIR)"
   ]
  },
  {
   "cell_type": "code",
   "execution_count": 77,
   "id": "6d9a737b-0a7a-4d09-bf55-a054617a2f06",
   "metadata": {},
   "outputs": [],
   "source": [
    "# Here we merge two datasets, which we will use for training.\n",
    "# \"combined_data\" is data coming from data warehouse, or any other source\n",
    "# Then we are merging it with data from the feature store using \"PassengerId\" as key\n",
    "\n",
    "combined_data = store.get_historical_features(\n",
    "    entity_df=partial_data,\n",
    "    features=[f\"space_titanic:{name}\" for name in fs_feature_names],\n",
    ").to_df()"
   ]
  },
  {
   "cell_type": "code",
   "execution_count": 78,
   "id": "57ae63e9-7c45-4440-8633-d16968751c8b",
   "metadata": {},
   "outputs": [
    {
     "data": {
      "text/plain": [
       "PassengerId                     object\n",
       "RoomService                    float64\n",
       "FoodCourt                      float64\n",
       "ShoppingMall                   float64\n",
       "Spa                            float64\n",
       "VRDeck                         float64\n",
       "event_timestamp    datetime64[ns, UTC]\n",
       "HomePlanet                    category\n",
       "CryoSleep                         bool\n",
       "Destination                   category\n",
       "Age                            float64\n",
       "VIP                               bool\n",
       "Transported                       bool\n",
       "dtype: object"
      ]
     },
     "execution_count": 78,
     "metadata": {},
     "output_type": "execute_result"
    }
   ],
   "source": [
    "# Let's check that the categorical features still have the right data types.\n",
    "# Namely some of the features have to be categorical and bool.\n",
    "\n",
    "combined_data.dtypes"
   ]
  },
  {
   "cell_type": "code",
   "execution_count": 79,
   "id": "e317a305-b649-4e31-837e-08758fea47a7",
   "metadata": {},
   "outputs": [],
   "source": [
    "train_data, val_data = train_test_split(combined_data, random_state=RANDOM_SEED)"
   ]
  },
  {
   "cell_type": "code",
   "execution_count": 80,
   "id": "ed9ac587-b9d0-4627-a322-d98305109284",
   "metadata": {},
   "outputs": [],
   "source": [
    "# Don't write large classes in Jupyter, it is not the right tool for the job.\n",
    "# Just write it as a module and load it in Jupyter.\n",
    "\n",
    "from not_a_real_trainer import NotARealTrainer"
   ]
  },
  {
   "cell_type": "code",
   "execution_count": 82,
   "id": "a28e6848-4a1e-45ec-8c2f-e19e4e55a5bd",
   "metadata": {},
   "outputs": [],
   "source": [
    "# Martynas: to use the feature store in real-life you'll have to do the model schema changes."
   ]
  },
  {
   "cell_type": "code",
   "execution_count": 83,
   "id": "9efbf378-64ac-4015-adc2-720d39ccfc71",
   "metadata": {},
   "outputs": [],
   "source": [
    "trainer = NotARealTrainer(\n",
    "    name=\"model2\",\n",
    "    work_dir=Path(MODELS_DIR),\n",
    "    memory=USABLE_MEMORY_PER_CORE,\n",
    "    time_limit_in_seconds=60 * 2,\n",
    "    fs_feature_names=fs_feature_names,\n",
    "    metric=autosklearn.metrics.roc_auc,\n",
    ")"
   ]
  },
  {
   "cell_type": "code",
   "execution_count": 84,
   "id": "b2a715d4-269e-451b-95ec-73ea30a2540a",
   "metadata": {},
   "outputs": [],
   "source": [
    "trainer.fit((train_data[feature_names], train_data[target_name]))"
   ]
  },
  {
   "cell_type": "code",
   "execution_count": 85,
   "id": "9644efd4-0603-4a3b-9129-65af7426ac8d",
   "metadata": {},
   "outputs": [
    {
     "name": "stdout",
     "output_type": "stream",
     "text": [
      "Materializing \u001b[1m\u001b[32m1\u001b[0m feature views to \u001b[1m\u001b[32m2022-07-27 18:53:44+00:00\u001b[0m into the \u001b[1m\u001b[32msqlite\u001b[0m online store.\n",
      "\n",
      "Since the ttl is 0 for feature view \u001b[1m\u001b[32mspace_titanic\u001b[0m, the start date will be set to 1 year before the current time.\n",
      "\u001b[1m\u001b[32mspace_titanic\u001b[0m from \u001b[1m\u001b[32m2021-07-28 18:53:45+00:00\u001b[0m to \u001b[1m\u001b[32m2022-07-27 18:53:44+00:00\u001b[0m:\n",
      "100%|█████████████████████████████████████████████████████████| 8693/8693 [00:01<00:00, 4995.26it/s]\n"
     ]
    }
   ],
   "source": [
    "# What is materialization? It just means load your features to the online feature store to make them available for inference.\n",
    "\n",
    "!cd {FEATURE_STORE_DIR} && feast materialize-incremental $(date -u +\"%Y-%m-%dT%H:%M:%S\")"
   ]
  },
  {
   "cell_type": "code",
   "execution_count": 88,
   "id": "2f13f7da-4861-4e39-8b36-e6a02b1973bb",
   "metadata": {},
   "outputs": [
    {
     "name": "stdout",
     "output_type": "stream",
     "text": [
      "CPU times: user 6.37 s, sys: 416 ms, total: 6.78 s\n",
      "Wall time: 9.01 s\n"
     ]
    }
   ],
   "source": [
    "# Let's simulate how we'd do a real inference by calling our model repeatedly with a batch of data.\n",
    "\n",
    "%%time\n",
    "step = 1000\n",
    "predictions = []\n",
    "for i in range(0, len(val_data), step):\n",
    "    predictions.append(\n",
    "        trainer.predict(store,\n",
    "            val_data[[\"PassengerId\", *request_feature_names]].iloc[i : i + step]\n",
    "        )\n",
    "    )\n",
    "predictions = np.concatenate(predictions)"
   ]
  },
  {
   "cell_type": "code",
   "execution_count": 89,
   "id": "956db57a-0fa8-4ed2-86a9-d4136b5d0d6f",
   "metadata": {},
   "outputs": [
    {
     "name": "stdout",
     "output_type": "stream",
     "text": [
      "              precision    recall  f1-score   support\n",
      "\n",
      "       False       0.79      0.79      0.79      1040\n",
      "        True       0.80      0.81      0.81      1134\n",
      "\n",
      "    accuracy                           0.80      2174\n",
      "   macro avg       0.80      0.80      0.80      2174\n",
      "weighted avg       0.80      0.80      0.80      2174\n",
      "\n"
     ]
    }
   ],
   "source": [
    "# We should get similar results as before.\n",
    "\n",
    "print(classification_report(val_data[[target_name]], predictions))"
   ]
  },
  {
   "cell_type": "code",
   "execution_count": null,
   "id": "775c4a30-46e7-4ca0-94ab-3670f4f60572",
   "metadata": {},
   "outputs": [],
   "source": [
    "# You can read more about how to use the Feature Store for your projects here: https://github.com/vinted/vmip-docs"
   ]
  },
  {
   "cell_type": "code",
   "execution_count": null,
   "id": "abfda731-36e4-4e94-9f98-7c6747ce20b2",
   "metadata": {},
   "outputs": [],
   "source": []
  }
 ],
 "metadata": {
  "environment": {
   "kernel": "python3",
   "name": "common-cpu.m94",
   "type": "gcloud",
   "uri": "gcr.io/deeplearning-platform-release/base-cpu:m94"
  },
  "kernelspec": {
   "display_name": "Python 3",
   "language": "python",
   "name": "python3"
  },
  "language_info": {
   "codemirror_mode": {
    "name": "ipython",
    "version": 3
   },
   "file_extension": ".py",
   "mimetype": "text/x-python",
   "name": "python",
   "nbconvert_exporter": "python",
   "pygments_lexer": "ipython3",
   "version": "3.7.12"
  }
 },
 "nbformat": 4,
 "nbformat_minor": 5
}
